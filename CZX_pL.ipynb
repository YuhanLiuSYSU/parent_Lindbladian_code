{
 "cells": [
  {
   "cell_type": "markdown",
   "id": "86c4256d",
   "metadata": {},
   "source": [
    "# CZX vertical canonical form"
   ]
  },
  {
   "cell_type": "code",
   "execution_count": 50,
   "id": "5c105858",
   "metadata": {},
   "outputs": [],
   "source": [
    "using TensorOperations, LinearAlgebra, PrettyTables"
   ]
  },
  {
   "cell_type": "code",
   "execution_count": 4,
   "id": "d42428c8",
   "metadata": {},
   "outputs": [],
   "source": [
    "# one-site MPDO\n",
    "\n",
    "shape = (3, 3, 2, 2)    # alpha, beta, i, j\n",
    "M = zeros(Float64, shape...)  \n",
    "M11 = 0.5*[1 0 0; 0 0 0; 0 0 0];\n",
    "M22 = 0.5*[1 0 0; 0 0 0; 0 0 0];\n",
    "M12 = 0.5*[0 0 0; 0 1 1; 0 0 0];\n",
    "M21 = 0.5*[0 0 0; 0 0 0; 0 1 -1];\n",
    "\n",
    "M[:,:,1,1] = M11;\n",
    "M[:,:,2,2] = M22;\n",
    "M[:,:,1,2] = M12;\n",
    "M[:,:,2,1] = M21;"
   ]
  },
  {
   "cell_type": "code",
   "execution_count": 3,
   "id": "865fdd37",
   "metadata": {},
   "outputs": [
    {
     "data": {
      "text/plain": [
       "examine_single_BNT (generic function with 1 method)"
      ]
     },
     "metadata": {},
     "output_type": "display_data"
    }
   ],
   "source": [
    "function block_M(M1, M2)\n",
    "    D, _ , d1, _ = size(M1)\n",
    "    _, _ , d2, _ = size(M2)\n",
    "    Mc = zeros(Float64, D, D, d1*d2, d1*d2)\n",
    "\n",
    "    @tensor Mc[alpha, beta, i1,i2,j1,j2] := M1[alpha,gamma,i1,j1] * M2[gamma,beta,i2,j2] \n",
    "    M_perm = permutedims(Mc, (1, 2, 4, 3, 6, 5))   # to make the result row-major\n",
    "    Mc_reshape = reshape(M_perm, (D, D, d1*d2, d1*d2))\n",
    "\n",
    "    return Mc_reshape\n",
    "end\n",
    "\n",
    "\n",
    "function MPDO_to_MPV_h(M)\n",
    "    # combine indices i and j\n",
    "    D, _ , d, _ = size(M)\n",
    "    M_perm = permutedims(M, (1, 2, 4, 3)) \n",
    "    M_reshape = reshape(M_perm, (D, D, d*d))\n",
    "\n",
    "    return M_reshape\n",
    "end\n",
    "\n",
    "\n",
    "function MPDO_to_MPV_v(M)\n",
    "    # combine indices alpha and beta\n",
    "    D, _ , d, _ = size(M)\n",
    "    M_perm = permutedims(M, (2, 1, 3, 4)) \n",
    "    M_reshape = reshape(M_perm, (D*D, d, d))\n",
    "    M_reshape_perm = permutedims(M_reshape, (2,3,1))\n",
    "\n",
    "    return M_reshape_perm\n",
    "end\n",
    "\n",
    "\n",
    "function transfer_matr(M1, M2)\n",
    "    D, _ , d = size(M1)\n",
    "    @tensor T[alphap, alpha,betap, beta] := M1[alpha, beta, i] * conj(M2[alphap, betap, i])\n",
    "    T_perm = permutedims(T, (2, 1, 4, 3))\n",
    "    T_reshape = reshape(T_perm, D*D, D*D)\n",
    "    \n",
    "    return T_reshape\n",
    "end\n",
    "\n",
    "function examine_BNT(M_set)\n",
    "    # examine the BNT elements are independent\n",
    "    M_set_MPV = MPDO_to_MPV_v.(M_set);\n",
    "\n",
    "    n = length(M_set)\n",
    "    overlap = zeros(ComplexF64, n, n)\n",
    "    overlap2 = zeros(ComplexF64, n, n)\n",
    "    for i in 1:n\n",
    "        for j in 1:n\n",
    "            T_mix = transfer_matr(M_set_MPV[i], M_set_MPV[j])\n",
    "            eig_T = eigen(T_mix)\n",
    "            overlap[i,j] = eig_T.values[end]\n",
    "            overlap2[i,j] = eig_T.values[end-1]\n",
    "        end\n",
    "    end\n",
    "\n",
    "    return overlap, overlap2\n",
    "end\n",
    "\n",
    "\n",
    "function dependent_block(M1, M2)\n",
    "    M1_MPV = MPDO_to_MPV_v(M1)\n",
    "    M2_MPV = MPDO_to_MPV_v(M2)\n",
    "\n",
    "    T_mix = transfer_matr(M1_MPV, M2_MPV)\n",
    "    T_two = transfer_matr(M2_MPV, M2_MPV)\n",
    "    eig_Tm = eigen(T_mix)\n",
    "    eig_T2 = eigen(T_two)\n",
    "\n",
    "    leading_vec_m = eig_Tm.vectors[:,end]\n",
    "    leading_vec_2 = eig_T2.vectors[:,end]\n",
    "\n",
    "    return leading_vec_m, leading_vec_2\n",
    "\n",
    "end\n",
    "\n",
    "\n",
    "function examine_single_BNT(M)\n",
    "    T = transfer_matr(M, M)\n",
    "    eig_T = eigen(T)\n",
    "    eig_Tt = eigen(T')\n",
    "\n",
    "    eval = eig_T.values\n",
    "    leading_vec = eig_T.vectors[:, end]\n",
    "    leading_vec_t = eig_Tt.vectors[:, end]\n",
    "\n",
    "    return eval, leading_vec, leading_vec_t\n",
    "end"
   ]
  },
  {
   "cell_type": "markdown",
   "id": "daa511b6",
   "metadata": {},
   "source": [
    "### Blocking two sites of M"
   ]
  },
  {
   "cell_type": "code",
   "execution_count": 5,
   "id": "fd5e3cd3",
   "metadata": {},
   "outputs": [],
   "source": [
    "M2 = block_M(M, M);\n",
    "U = [1 0 0 0; 0 0 0 1; 0 1 0 0; 0 0 1 0]*1.0;\n",
    "Ut = transpose(U);\n",
    " # this is in vertical canonical form\n",
    "@tensor M2_U[alpha,beta,i,j] := U[i,ip] * M2[alpha,beta,ip,jp] * Ut[jp,j] * 4/sqrt(3);"
   ]
  },
  {
   "cell_type": "code",
   "execution_count": 42,
   "id": "28c7477e",
   "metadata": {},
   "outputs": [
    {
     "data": {
      "text/plain": [
       "4×4 Matrix{Float64}:\n",
       " 0.0  0.0   0.0   0.25\n",
       " 0.0  0.0  -0.25  0.0\n",
       " 0.0  0.0   0.0   0.0\n",
       " 0.0  0.0   0.0   0.0"
      ]
     },
     "metadata": {},
     "output_type": "display_data"
    }
   ],
   "source": [
    "M2[2,3,:,:]"
   ]
  },
  {
   "cell_type": "code",
   "execution_count": 6,
   "id": "de899ca4",
   "metadata": {},
   "outputs": [],
   "source": [
    "P1 = [1 0 0 0; 0 1 0 0];\n",
    "P2 = [0 0 1 0; 0 0 0 1];\n",
    "\n",
    "@tensor K_blk_one[alpha,beta,i,j] := P1[i,ip] * M2_U[alpha,beta,ip,jp] * P1[j,jp];\n",
    "@tensor K_blk_two[alpha,beta,i,j] := P2[i,ip] * M2_U[alpha,beta,ip,jp] * P2[j,jp];\n",
    "\n",
    "K_set = [K_blk_one, K_blk_two]\n",
    "overlap, overlap2 = examine_BNT(K_set);"
   ]
  },
  {
   "cell_type": "code",
   "execution_count": 7,
   "id": "06d655fa",
   "metadata": {},
   "outputs": [
    {
     "data": {
      "text/plain": [
       "2×2 Matrix{ComplexF64}:\n",
       "      1.0+0.0im          0.333333+2.94613e-18im\n",
       " 0.333333+2.94613e-18im       1.0+0.0im"
      ]
     },
     "metadata": {},
     "output_type": "display_data"
    }
   ],
   "source": [
    "overlap"
   ]
  },
  {
   "cell_type": "code",
   "execution_count": 8,
   "id": "d18772b4",
   "metadata": {},
   "outputs": [
    {
     "data": {
      "text/plain": [
       "16-element Vector{ComplexF64}:\n",
       " -0.3333333333333334 + 0.0im\n",
       " -0.3333333333333332 + 0.0im\n",
       "  0.3333333333333333 + 0.0im\n",
       "  0.3333333333333334 - 2.9461301385306534e-18im\n",
       "  0.3333333333333334 + 0.0im\n",
       "  0.3333333333333334 + 0.0im\n",
       "  0.3333333333333334 + 0.0im\n",
       "  0.3333333333333334 + 0.0im\n",
       "  0.3333333333333334 + 0.0im\n",
       "  0.3333333333333334 + 0.0im\n",
       "  0.3333333333333334 + 0.0im\n",
       "  0.3333333333333334 + 0.0im\n",
       "  0.3333333333333334 + 0.0im\n",
       "  0.3333333333333334 + 2.9461301385306534e-18im\n",
       "                 1.0 + 0.0im\n",
       "  1.0000000000000002 + 0.0im"
      ]
     },
     "metadata": {},
     "output_type": "display_data"
    }
   ],
   "source": [
    "M2_MPV = MPDO_to_MPV_v(M2_U)\n",
    "T = transfer_matr(M2_MPV, M2_MPV)\n",
    "eig_T = eigen(T)\n",
    "eig_T.values"
   ]
  },
  {
   "cell_type": "markdown",
   "id": "bc8d7559",
   "metadata": {},
   "source": [
    "### Block four sites of M"
   ]
  },
  {
   "cell_type": "code",
   "execution_count": 9,
   "id": "22cebd85",
   "metadata": {},
   "outputs": [],
   "source": [
    "M4 = block_M(M2, M2);"
   ]
  },
  {
   "cell_type": "code",
   "execution_count": 10,
   "id": "4a253c14",
   "metadata": {},
   "outputs": [],
   "source": [
    "U0 = zeros(Float64, 16, 16) \n",
    "for i=1:8\n",
    "    U0[2*i-1,i] = 1;\n",
    "    U0[2*i, 17-i] = 1;\n",
    "end\n",
    "\n",
    "Z = [1 0; 0 -1]\n",
    "Uz = diagm(0 => ones(16))\n",
    "Uz[7:8, 7:8] = Z\n",
    "Uz[13:14, 13:14] = Z\n",
    "\n",
    "p = [1,2,5,6,9,10,13,14,3,4,7,8,11,12,15,16]\n",
    "Perm = Matrix{Float64}(I, 16, 16)[p, :]\n",
    "\n",
    "V = Perm * Uz * U0\n",
    "\n",
    "@tensor M4_U[alpha,beta,i,j] := V[i,ip] * M4[alpha,beta,ip,jp] * V[j,jp] * 16/sqrt(3);"
   ]
  },
  {
   "cell_type": "code",
   "execution_count": 11,
   "id": "84f65442",
   "metadata": {},
   "outputs": [],
   "source": [
    "M4_blk_1 = M4_U[:,:,1:2,1:2];\n",
    "M4_blk_2 = M4_U[:,:,9:10,9:10];\n",
    "\n",
    "M4_blk_set = [M4_blk_1, M4_blk_2];  # BNT\n",
    "\n",
    "e_val, leading_vec, leading_vec_t = examine_single_BNT(MPDO_to_MPV_v(M4_blk_1));\n",
    "overlap, overlap2 = examine_BNT(M4_blk_set);"
   ]
  },
  {
   "cell_type": "code",
   "execution_count": 12,
   "id": "d3a65cbd",
   "metadata": {},
   "outputs": [
    {
     "data": {
      "text/plain": [
       "2×2 Matrix{Float64}:\n",
       " 1.0       0.333333\n",
       " 0.333333  1.0"
      ]
     },
     "metadata": {},
     "output_type": "display_data"
    }
   ],
   "source": [
    "abs.(overlap)"
   ]
  },
  {
   "cell_type": "code",
   "execution_count": 13,
   "id": "8e512346",
   "metadata": {},
   "outputs": [
    {
     "name": "stdout",
     "output_type": "stream",
     "text": [
      "0.0\n",
      "0.0\n",
      "0.0\n",
      "0.0\n",
      "0.0\n",
      "0.0\n",
      "0.0\n",
      "0.0\n"
     ]
    }
   ],
   "source": [
    "# examine the canonical form\n",
    "nb = [1,1,1,1,2,2,2,2]\n",
    "for i in 1:8\n",
    "    println(norm(M4_U[:,:,2*i-1:2*i,2*i-1:2*i] - M4_blk_set[nb[i]]))\n",
    "end\n"
   ]
  },
  {
   "cell_type": "code",
   "execution_count": 13,
   "id": "500155ba",
   "metadata": {},
   "outputs": [],
   "source": [
    "# M4_blk_3 = M4_U[:,:,7:8,7:8];\n",
    "# M4_blk_4 = M4_U[:,:,13:14,13:14];\n",
    "# leading_vec_m, leading_vec_2 = dependent_block(M4_blk_2, M4_blk_3);\n",
    "# Z = [1 0; 0 -1]\n",
    "# Z * M4_blk_2[3,3,:,:] * Z\n",
    "# M4_blk_3[3,3,:,:]"
   ]
  },
  {
   "cell_type": "markdown",
   "id": "00f0693d",
   "metadata": {},
   "source": [
    "## RG channel"
   ]
  },
  {
   "cell_type": "code",
   "execution_count": 14,
   "id": "5f719fcd",
   "metadata": {},
   "outputs": [],
   "source": [
    "m1 = sqrt(3)/4\n",
    "m2 = sqrt(3)/4\n",
    "\n",
    "nu1 = diagm(0 => ones(4))*sqrt(3)/16\n",
    "nu2 = diagm(0 => ones(4))*sqrt(3)/16;"
   ]
  },
  {
   "cell_type": "code",
   "execution_count": 15,
   "id": "c5b22ef6",
   "metadata": {},
   "outputs": [
    {
     "data": {
      "text/plain": [
       "channel_S (generic function with 1 method)"
      ]
     },
     "metadata": {},
     "output_type": "display_data"
    }
   ],
   "source": [
    "function random_density_matrix(n::Int)\n",
    "    A = randn(ComplexF64, n, n)  # complex Ginibre matrix\n",
    "    ρ = A * A'                   # Hermitian and positive semidefinite\n",
    "    ρ ./= tr(ρ)                  # normalize to trace 1\n",
    "    return ρ\n",
    "end\n",
    "\n",
    "\n",
    "function is_valid_dm(rho::Array{ComplexF64})\n",
    "\n",
    "    eval = eigen(rho).values\n",
    "\n",
    "    println(\"Hermitian? \", ishermitian(rho))\n",
    "    println(\"Trace=1? \", isapprox(tr(rho), 1))\n",
    "    println(\"Positive? \", (eval).>0)\n",
    "\n",
    "    return eval\n",
    "end\n",
    "\n",
    "\n",
    "function channel_T(rho)\n",
    "    P1 = zeros(Float64, 2,4)\n",
    "    P2 = zeros(Float64, 2,4)\n",
    "    P1[1:2,1:2] = diagm(0 => ones(2))\n",
    "    P2[1:2,3:4] = diagm(0 => ones(2))\n",
    "\n",
    "    blk1 = kron(nu1/m1, P1*U*rho*U'*P1')\n",
    "    blk2 = kron(nu2/m2, P2*U*rho*U'*P2')\n",
    "    zmtr = zeros(Float64, 8,8)\n",
    "    dsum = [blk1 zmtr; zmtr blk2]\n",
    "    rho_out = V'*dsum*V\n",
    "\n",
    "    return rho_out\n",
    "end\n",
    "\n",
    "\n",
    "function partial_trace(ρ::AbstractMatrix, dA::Int, dB::Int)\n",
    "\n",
    "    # trace over A\n",
    "    ρ_tensor = permutedims(reshape(ρ', dB, dA, dB, dA), (4,3,2,1))  # make everything row-major\n",
    "\n",
    "    pt = zeros(eltype(ρ), dB, dB)\n",
    "    for i in 1:dA\n",
    "        pt = pt + ρ_tensor[i,:,i,:]\n",
    "    end\n",
    "\n",
    "    return pt\n",
    "end\n",
    "\n",
    "\n",
    "function channel_S(rho)\n",
    "    d = 8\n",
    "    P1 = zeros(Float64, d, 2*d)\n",
    "    P2 = zeros(Float64, d, 2*d)\n",
    "    P1[1:d,1:d] = diagm(0 => ones(d))\n",
    "    P2[1:d,d+1:2*d] = diagm(0 => ones(d))\n",
    "\n",
    "    blk1 = partial_trace(P1*V*rho*V'*P1',4,2)\n",
    "    blk2 = partial_trace(P2*V*rho*V'*P2',4,2)\n",
    "\n",
    "    zmtr = zeros(Float64, 2,2)\n",
    "    dsum = [blk1 zmtr; zmtr blk2]\n",
    "    rho_out = U'*dsum*U\n",
    "\n",
    "end"
   ]
  },
  {
   "cell_type": "code",
   "execution_count": 16,
   "id": "f1fb245f",
   "metadata": {},
   "outputs": [
    {
     "name": "stdout",
     "output_type": "stream",
     "text": [
      "Hermitian? true\n",
      "Trace=1? true\n",
      "Positive? Bool[1, 1, 1, 1, 1, 1, 1, 1, 1, 1, 1, 1, 1, 1, 1, 1]\n",
      "Hermitian? true\n",
      "Trace=1? true\n",
      "Positive? Bool[1, 1, 1, 1]\n"
     ]
    }
   ],
   "source": [
    "rand_rho = random_density_matrix(4)\n",
    "is_valid_dm(channel_T(rand_rho))\n",
    "\n",
    "rand_rho = random_density_matrix(16)\n",
    "is_valid_dm(channel_S(rand_rho));"
   ]
  },
  {
   "cell_type": "code",
   "execution_count": 17,
   "id": "322cf399",
   "metadata": {},
   "outputs": [
    {
     "name": "stdout",
     "output_type": "stream",
     "text": [
      "0.0\n",
      "0.0\n",
      "0.0\n",
      "0.0\n",
      "0.0\n",
      "0.0\n",
      "0.0\n",
      "0.0\n",
      "0.0\n"
     ]
    }
   ],
   "source": [
    "for alpha in 1:3\n",
    "    for beta in 1:3\n",
    "        println(norm(channel_T(M2[alpha,beta,:,:])-M4[alpha,beta,:,:]))\n",
    "    end\n",
    "end"
   ]
  },
  {
   "cell_type": "code",
   "execution_count": 18,
   "id": "ed17afe1",
   "metadata": {},
   "outputs": [
    {
     "name": "stdout",
     "output_type": "stream",
     "text": [
      "0.0\n",
      "0.0\n",
      "0.0\n",
      "0.0\n",
      "0.0\n",
      "0.0\n",
      "0.0\n",
      "0.0\n",
      "0.0\n"
     ]
    }
   ],
   "source": [
    "for alpha in 1:3\n",
    "    for beta in 1:3\n",
    "        println(norm(channel_S(M4[alpha,beta,:,:])-M2[alpha,beta,:,:]))\n",
    "    end\n",
    "end"
   ]
  },
  {
   "cell_type": "code",
   "execution_count": 92,
   "id": "c1c08b9b",
   "metadata": {},
   "outputs": [],
   "source": [
    "# test = reshape(1:16, 4, 4)'\n",
    "# testT = channel_T(test)\n",
    "# testT[:,9:16]"
   ]
  },
  {
   "cell_type": "markdown",
   "id": "7da869aa",
   "metadata": {},
   "source": [
    "### Lindbladian"
   ]
  },
  {
   "cell_type": "code",
   "execution_count": 19,
   "id": "b316ebc2",
   "metadata": {},
   "outputs": [
    {
     "data": {
      "text/plain": [
       "func_to_map (generic function with 1 method)"
      ]
     },
     "metadata": {},
     "output_type": "display_data"
    }
   ],
   "source": [
    "function channel_E(rho)\n",
    "    return channel_T(channel_S(rho))\n",
    "end\n",
    "\n",
    "\n",
    "function func_to_map(f::Function,d::Int)\n",
    "    \n",
    "    func_map = zeros(ComplexF64, d^2, d^2)\n",
    "    input_vecs = diagm(0 => ones(d^2))\n",
    "\n",
    "    for i=1:d^2\n",
    "        out_matr = channel_E(reshape(input_vecs[i,:], (d,d))')\n",
    "        func_map[:,i] = reshape(out_matr', d^2)\n",
    "    end\n",
    "\n",
    "    return func_map\n",
    "end"
   ]
  },
  {
   "cell_type": "code",
   "execution_count": null,
   "id": "5e836cbe",
   "metadata": {},
   "outputs": [
    {
     "data": {
      "text/plain": [
       "256-element Vector{Float64}:\n",
       " -1.7494466769025583e-16\n",
       " -1.3491402892271498e-16\n",
       " -1.0492465463812014e-16\n",
       " -9.800224918278825e-17\n",
       " -9.619849424162404e-17\n",
       " -7.396900487809013e-17\n",
       " -7.35056112421738e-17\n",
       " -7.021666937153401e-17\n",
       " -5.246232731906007e-17\n",
       " -4.664488705472935e-17\n",
       "  ⋮\n",
       "  8.881784197001252e-16\n",
       "  0.9999999999999982\n",
       "  0.9999999999999984\n",
       "  1.0\n",
       "  1.0000000000000002\n",
       "  1.0000000000000002\n",
       "  1.0000000000000002\n",
       "  1.0000000000000002\n",
       "  1.0000000000000002"
      ]
     },
     "metadata": {},
     "output_type": "display_data"
    }
   ],
   "source": [
    "d = 16\n",
    "matr_channel_E = func_to_map(channel_E, d)\n",
    "eig_E = eigen(matr_channel_E)\n",
    "eig_E.values"
   ]
  },
  {
   "cell_type": "code",
   "execution_count": 62,
   "id": "777dedd1",
   "metadata": {},
   "outputs": [],
   "source": [
    "# pretty_table(real(reshape(eig_E.vectors[:,end], (d,d))'));"
   ]
  },
  {
   "cell_type": "code",
   "execution_count": 43,
   "id": "e0f0c30a",
   "metadata": {},
   "outputs": [
    {
     "data": {
      "text/plain": [
       "apply_channel (generic function with 1 method)"
      ]
     },
     "metadata": {},
     "output_type": "display_data"
    }
   ],
   "source": [
    "function apply_channel(rho,nA::Int,nB::Int;act='A')\n",
    "\n",
    "    dA = 2^nA\n",
    "    dB = 2^nB\n",
    "    d = size(rho)[1]\n",
    "\n",
    "    @assert dA*dB == d\n",
    "    rho_rs = permutedims(reshape(rho', dB, dA, dB, dA), (4,3,2,1))  # make everything row-major\n",
    "\n",
    "    out_rho = zeros(eltype(rho), (dA,dB,dA,dB))\n",
    "    if act == 'A'\n",
    "        for i in 1:dB\n",
    "            for j in 1:dB\n",
    "                out_rho[:,i,:,j] = channel_E(rho_rs[:,i,:,j])\n",
    "            end\n",
    "        end\n",
    "    elseif act == 'B'\n",
    "        for i in 1:dA\n",
    "            for j in 1:dA\n",
    "                out_rho[i,:,j,:] = channel_E(rho_rs[i,:,j,:])\n",
    "            end\n",
    "        end\n",
    "    end\n",
    "\n",
    "    out_rho_rs = reshape(permutedims(out_rho, (4,3,2,1)), (d,d))'\n",
    "\n",
    "    return out_rho_rs\n",
    "end"
   ]
  },
  {
   "cell_type": "code",
   "execution_count": 48,
   "id": "ffe21ee0",
   "metadata": {},
   "outputs": [
    {
     "name": "stdout",
     "output_type": "stream",
     "text": [
      "9.884095077286555e-18\n",
      "9.82654483774927e-18\n",
      "8.502544908293946e-18\n"
     ]
    }
   ],
   "source": [
    "# site = 5  # [E_i, E_{i+1}] =0 \n",
    "# site = 6   # [E_i, E_{i+2}] =0 \n",
    "# site = 7    # [E_i, E_{i+3}] =0 \n",
    "\n",
    "let\n",
    "    for site in 5:7\n",
    "        s1 = 4\n",
    "        s2 = site - s1\n",
    "        \n",
    "        rand_rho = random_density_matrix(2^site);\n",
    "\n",
    "        c12 = apply_channel(apply_channel(rand_rho,s1,s2;act='A'), s2,s1;act='B');\n",
    "        c21 = apply_channel(apply_channel(rand_rho,s2,s1;act='B'), s1,s2;act='A');\n",
    "        println(norm(c12 - c21))\n",
    "    end\n",
    "end"
   ]
  },
  {
   "cell_type": "code",
   "execution_count": 49,
   "id": "2834fa0f",
   "metadata": {},
   "outputs": [],
   "source": [
    "rand_rho = reshape(1:4^site, 2^site, 2^site)'*1.0\n",
    "c12 = apply_channel(apply_channel(rand_rho,s1,s2;act='A'), s2,s1;act='B');\n",
    "c21 = apply_channel(apply_channel(rand_rho,s2,s1;act='B'), s1,s2;act='A');"
   ]
  },
  {
   "cell_type": "code",
   "execution_count": 96,
   "id": "dd6c9eae",
   "metadata": {},
   "outputs": [],
   "source": [
    "c12;"
   ]
  }
 ],
 "metadata": {
  "kernelspec": {
   "display_name": "Julia 1.11.5",
   "language": "julia",
   "name": "julia-1.11"
  },
  "language_info": {
   "file_extension": ".jl",
   "mimetype": "application/julia",
   "name": "julia",
   "version": "1.11.5"
  }
 },
 "nbformat": 4,
 "nbformat_minor": 5
}
